{
 "cells": [
  {
   "cell_type": "code",
   "execution_count": 31,
   "metadata": {},
   "outputs": [],
   "source": [
    "bangkit_id = \"C2306G2621\"\n",
    "nama = \"Michael Georgisva\"\n",
    "data = {\n",
    "    \"LinkedIn\"  : \"https://www.linkedin.com/in/michael-georgisva/\",\n",
    "    \"Instagram\" : \"https://www.instagram.com/michaelgeorgisva/\"\n",
    "}"
   ]
  },
  {
   "cell_type": "code",
   "execution_count": 32,
   "metadata": {},
   "outputs": [
    {
     "name": "stdout",
     "output_type": "stream",
     "text": [
      "|C2306G2621|Michael Georgisva|[LinkedIn](https://www.linkedin.com/in/michael-georgisva/)  [Instagram](https://www.instagram.com/michaelgeorgisva/)  |\n"
     ]
    }
   ],
   "source": [
    "print(f\"|{bangkit_id}\", end=\"|\")\n",
    "print(f\"{nama}\", end=\"|\")\n",
    "for i in data:\n",
    "    print(f\"[{i}]({data[i]})\", end=\"  \")\n",
    "print(\"|\")"
   ]
  },
  {
   "cell_type": "code",
   "execution_count": null,
   "metadata": {},
   "outputs": [],
   "source": []
  },
  {
   "cell_type": "code",
   "execution_count": null,
   "metadata": {},
   "outputs": [],
   "source": []
  }
 ],
 "metadata": {
  "interpreter": {
   "hash": "e7370f93d1d0cde622a1f8e1c04877d8463912d04d973331ad4851f04de6915a"
  },
  "kernelspec": {
   "display_name": "Python 3.8.10 64-bit",
   "language": "python",
   "name": "python3"
  },
  "language_info": {
   "codemirror_mode": {
    "name": "ipython",
    "version": 3
   },
   "file_extension": ".py",
   "mimetype": "text/x-python",
   "name": "python",
   "nbconvert_exporter": "python",
   "pygments_lexer": "ipython3",
   "version": "3.8.10"
  },
  "orig_nbformat": 4
 },
 "nbformat": 4,
 "nbformat_minor": 2
}
